{
  "nbformat": 4,
  "nbformat_minor": 0,
  "metadata": {
    "colab": {
      "provenance": [],
      "mount_file_id": "1iMEBjHZA7RWxtRHayoM65gsIxMvWjl1s",
      "authorship_tag": "ABX9TyPude3/RDqkbb4qSmNgNPLM",
      "include_colab_link": true
    },
    "kernelspec": {
      "name": "python3",
      "display_name": "Python 3"
    },
    "language_info": {
      "name": "python"
    }
  },
  "cells": [
    {
      "cell_type": "markdown",
      "metadata": {
        "id": "view-in-github",
        "colab_type": "text"
      },
      "source": [
        "<a href=\"https://colab.research.google.com/github/LicaCepillo/LicaCepillo/blob/main/Distribui%C3%A7%C3%A3o_discreta_continua.ipynb\" target=\"_parent\"><img src=\"https://colab.research.google.com/assets/colab-badge.svg\" alt=\"Open In Colab\"/></a>"
      ]
    },
    {
      "cell_type": "markdown",
      "source": [
        "#**DISTRIBUIÇÃO DISCRETA**"
      ],
      "metadata": {
        "id": "rNhuQCHKhAXW"
      }
    },
    {
      "cell_type": "code",
      "execution_count": 1,
      "metadata": {
        "id": "SYzR7uOefrrc"
      },
      "outputs": [],
      "source": [
        "import numpy as np\n",
        "import pandas as pd"
      ]
    },
    {
      "cell_type": "code",
      "source": [
        "enem_sp = pd.read_csv('/content/drive/MyDrive/Python_projetos_reforço/enem_2019_tratado.csv', sep=',', encoding='iso-8859-1')"
      ],
      "metadata": {
        "id": "iufiaA87gi8O"
      },
      "execution_count": 2,
      "outputs": []
    },
    {
      "cell_type": "markdown",
      "source": [
        "## Distribuição Binominal\n",
        "### Possibilidade apenas de dois resultados\n",
        "###Tentativas idênticas e independentes\n",
        "parâmetros:\n",
        "\n",
        "\n",
        "*   n = número de tentativas ou amostra.\n",
        "*   p = probabilidade de sucesso em uma tentativa.\n",
        "*   q = probabilidade de fracasso em uma tentativa.\n",
        "*   x = variável aleatória que reprsenta a contagem do número de sucessos.\n",
        "\n"
      ],
      "metadata": {
        "id": "U4oUR_2phKdB"
      }
    },
    {
      "cell_type": "code",
      "source": [
        "# Importanto pacotes para realizar esta operação\n",
        "\n",
        "from scipy.stats import binom\n"
      ],
      "metadata": {
        "id": "d-zqllpsg8BG"
      },
      "execution_count": 4,
      "outputs": []
    },
    {
      "cell_type": "code",
      "source": [
        "# PROBABILIDADE DE RETIRAR UMA MULHER\n",
        "\n",
        "mulher_enem = enem_sp.loc[enem_sp.SEXO == 'F']"
      ],
      "metadata": {
        "id": "wFbAQSq9lRXB"
      },
      "execution_count": 5,
      "outputs": []
    },
    {
      "cell_type": "code",
      "source": [
        "p = len(mulher_enem)/ len(enem_sp)\n",
        "p"
      ],
      "metadata": {
        "colab": {
          "base_uri": "https://localhost:8080/"
        },
        "id": "6Y4zWtAQlmWI",
        "outputId": "0f94444e-8ba3-4477-d975-e049bda8fb13"
      },
      "execution_count": 6,
      "outputs": [
        {
          "output_type": "execute_result",
          "data": {
            "text/plain": [
              "0.5803136376365163"
            ]
          },
          "metadata": {},
          "execution_count": 6
        }
      ]
    },
    {
      "cell_type": "markdown",
      "source": [
        "Duas aplicações diferentes:\n",
        "\n",
        "*   binom.pmf = valor pontual\n",
        "*   binom.cdf = faixa de valores (acumulada)\n",
        "\n",
        "\n"
      ],
      "metadata": {
        "id": "NbxulbszmDs2"
      }
    },
    {
      "cell_type": "code",
      "source": [
        "# PROBABILIDADE DE RETIRAR EXATAMENTE 4 MULHERES NUM TOTAL DE 10 AMOSTRAS\n",
        "\n",
        "binom.pmf(4,10,p)\n",
        "\n",
        "# Primeiro parâmetro: valor ou limite que está pretendendo calcular.\n",
        "# Segundo: número de tentativas.\n",
        "# Terceiro: probabilidade de um sucesso."
      ],
      "metadata": {
        "colab": {
          "base_uri": "https://localhost:8080/"
        },
        "id": "wnvdEwswlvPH",
        "outputId": "376d4782-8e9c-4990-faec-bd625bd173c5"
      },
      "execution_count": 7,
      "outputs": [
        {
          "output_type": "execute_result",
          "data": {
            "text/plain": [
              "0.13014261971434243"
            ]
          },
          "metadata": {},
          "execution_count": 7
        }
      ]
    },
    {
      "cell_type": "code",
      "source": [
        "# PROBALIDADE DE RETIRAR PELO MENOS UMA MULHER NO TOTAL DE 10 AMOSTRAS (utilizar a probabilidade de não ocorrencia)\n",
        "\n",
        "p0 = 1 - binom.pmf(0,10,p)\n",
        "p0"
      ],
      "metadata": {
        "colab": {
          "base_uri": "https://localhost:8080/"
        },
        "id": "72XUCw-bm4Y6",
        "outputId": "79e1a47f-0858-4785-f956-35eca72ef551"
      },
      "execution_count": 8,
      "outputs": [
        {
          "output_type": "execute_result",
          "data": {
            "text/plain": [
              "0.9998304692157152"
            ]
          },
          "metadata": {},
          "execution_count": 8
        }
      ]
    },
    {
      "cell_type": "code",
      "source": [
        "# PROBABILIDADE DE RETIRAR MAIS DO QUE 1 MULHER NUM TOTAL DE 10 AMOSTRAS\n",
        "\n",
        "p1 = 1 -  (binom.pmf(0,10,p) + binom.pmf(1,10,p))\n",
        "p1"
      ],
      "metadata": {
        "colab": {
          "base_uri": "https://localhost:8080/"
        },
        "id": "VMJDd4LxnJwH",
        "outputId": "5ce87e1d-7eb8-4e58-8684-2db4c1b39753"
      },
      "execution_count": 9,
      "outputs": [
        {
          "output_type": "execute_result",
          "data": {
            "text/plain": [
              "0.997486313318782"
            ]
          },
          "metadata": {},
          "execution_count": 9
        }
      ]
    },
    {
      "cell_type": "code",
      "source": [
        "# PROBABILIDADE DE RETIRAR MAIS DO QUE 3 MULHERES NUM TOTAL DE 10 AMOSTRAS\n",
        "\n",
        "p2 = 1- (binom.pmf(0,10,p) + binom.pmf(1,10,p) + + binom.pmf(2,10,p)+ + binom.pmf(3,10,p))\n",
        "p2"
      ],
      "metadata": {
        "colab": {
          "base_uri": "https://localhost:8080/"
        },
        "id": "HLy6sdZsn7iP",
        "outputId": "19e104ce-efa9-4126-9b20-0a517a2d20f4"
      },
      "execution_count": 11,
      "outputs": [
        {
          "output_type": "execute_result",
          "data": {
            "text/plain": [
              "0.929117468512205"
            ]
          },
          "metadata": {},
          "execution_count": 11
        }
      ]
    },
    {
      "cell_type": "code",
      "source": [
        "# OUTRA MAMEIRA\n",
        "\n",
        "p3 = 1 - binom.cdf(3,10,p)\n",
        "p3"
      ],
      "metadata": {
        "colab": {
          "base_uri": "https://localhost:8080/"
        },
        "id": "67ARJXuFq6e-",
        "outputId": "f4a5396b-4376-4317-8c73-d3a14ffbcf22"
      },
      "execution_count": 13,
      "outputs": [
        {
          "output_type": "execute_result",
          "data": {
            "text/plain": [
              "0.929117468512205"
            ]
          },
          "metadata": {},
          "execution_count": 13
        }
      ]
    },
    {
      "cell_type": "code",
      "source": [
        "# PROBABILIDADE DE RETIRA MAIS DO QUE 8 MULHERES NUM TOTAL DE 10 AMOSTRAS\n",
        "\n",
        "p4 = binom.pmf(9,10,p) + binom.pmf(10,10,p)\n",
        "p4"
      ],
      "metadata": {
        "colab": {
          "base_uri": "https://localhost:8080/"
        },
        "id": "q62mbEcrrxJa",
        "outputId": "86360661-e02b-4c21-d3a3-d8249f6b24d9"
      },
      "execution_count": 14,
      "outputs": [
        {
          "output_type": "execute_result",
          "data": {
            "text/plain": [
              "0.0356563059595738"
            ]
          },
          "metadata": {},
          "execution_count": 14
        }
      ]
    },
    {
      "cell_type": "code",
      "source": [
        "# OUTRA FORMA\n",
        "\n",
        "p5 = binom.cdf(10,10,p)- binom.cdf(8,10,p)\n",
        "p5"
      ],
      "metadata": {
        "colab": {
          "base_uri": "https://localhost:8080/"
        },
        "id": "Z09OykKGsI7D",
        "outputId": "a95e195e-d2e6-4a0e-9b88-08cacaba7177"
      },
      "execution_count": 16,
      "outputs": [
        {
          "output_type": "execute_result",
          "data": {
            "text/plain": [
              "0.03565630595957381"
            ]
          },
          "metadata": {},
          "execution_count": 16
        }
      ]
    },
    {
      "cell_type": "markdown",
      "source": [
        "##Distribuição Geométrica\n",
        "\n",
        "### Probabilidade de repetidas tentativas até que o sucesso ocorra. Tentativas independentes. \n",
        "\n",
        "\n",
        "*   p = probabilidade de sucesso em uma tentativa.\n",
        "*   q = probabilidade de fracasso em uma tentativa.\n",
        "*   x = variável aleatória que representa o número de falhas até o sucesso.\n",
        "\n",
        "\n",
        "\n"
      ],
      "metadata": {
        "id": "Ipb7w2X2sZic"
      }
    },
    {
      "cell_type": "code",
      "source": [
        "# Importar a função GEON\n",
        "\n",
        "from scipy.stats import geom\n"
      ],
      "metadata": {
        "id": "cY7l9YtHsVd6"
      },
      "execution_count": 17,
      "outputs": []
    },
    {
      "cell_type": "code",
      "source": [
        "# PROBABILIDADE DE RETIRAR 3 AMOSTRAS E NENHUMA SEM MULHER\n",
        "# geom.pmf(x.p) x, representa a tentativa que se obteve sucesso e p a probabilidade\n",
        "\n",
        "geom.pmf(4,p)"
      ],
      "metadata": {
        "colab": {
          "base_uri": "https://localhost:8080/"
        },
        "id": "HyshC0Itt6BZ",
        "outputId": "3ea07bfe-3aa5-48b1-a08f-dd70fa93ca97"
      },
      "execution_count": 18,
      "outputs": [
        {
          "output_type": "execute_result",
          "data": {
            "text/plain": [
              "0.042898029955685306"
            ]
          },
          "metadata": {},
          "execution_count": 18
        }
      ]
    },
    {
      "cell_type": "markdown",
      "source": [
        "##Distribuição de Poisson\n",
        "\n",
        "Número de vezes que um evento ocorre num determinado intervalo (tempo, área ou volume)"
      ],
      "metadata": {
        "id": "pCqjCKvVulEe"
      }
    },
    {
      "cell_type": "code",
      "source": [
        "from scipy.stats import poisson"
      ],
      "metadata": {
        "id": "Pb568QhXuRc4"
      },
      "execution_count": 20,
      "outputs": []
    },
    {
      "cell_type": "code",
      "source": [
        "# Num local de prova, 100 vestibulandos, normalmente, terminam a prova em 2 horas (tempo mínimo).\n",
        "# Probabilidade de exatamente 90 vestibulandos terminarem a prova em 2h.\n",
        "# poisson.pmf(x,m) x é a quantidade de ocorrências EM ESTUDO e m é a taxa de ocorrência.\n",
        "\n",
        "poisson.pmf(90,100)"
      ],
      "metadata": {
        "colab": {
          "base_uri": "https://localhost:8080/"
        },
        "id": "tiwGiOmhuu45",
        "outputId": "9271ba80-52f1-4678-8fe6-d099dded6a15"
      },
      "execution_count": 21,
      "outputs": [
        {
          "output_type": "execute_result",
          "data": {
            "text/plain": [
              "0.025038944623030353"
            ]
          },
          "metadata": {},
          "execution_count": 21
        }
      ]
    },
    {
      "cell_type": "code",
      "source": [],
      "metadata": {
        "id": "_T_tYuV7vTVg"
      },
      "execution_count": null,
      "outputs": []
    }
  ]
}